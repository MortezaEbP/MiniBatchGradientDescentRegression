{
 "cells": [
  {
   "cell_type": "code",
   "execution_count": null,
   "metadata": {
    "collapsed": true
   },
   "outputs": [],
   "source": []
  },
  {
   "cell_type": "code",
   "execution_count": null,
   "outputs": [],
   "source": [
    "import numpy as np\n",
    "import random\n",
    "import pandas as pd\n",
    "from sklearn.model_selection import train_test_split\n",
    "from sklearn.preprocessing import StandardScaler"
   ],
   "metadata": {
    "collapsed": false
   }
  },
  {
   "cell_type": "code",
   "execution_count": 5,
   "outputs": [],
   "source": [
    "\n",
    "class MiniBatchGDRegression:\n",
    "\n",
    "    def __init__(self):\n",
    "        \"\"\"\n",
    "        Initialize the Mini-Batch Gradient Descent Regression model.\n",
    "        \"\"\"\n",
    "        self.coefs_ = None  # weights of your model\n",
    "        self.intercept_ = None  # bias of your model\n",
    "        self.batch_size = None  # size of each mini-batch\n",
    "        self.max_iteration = None  # maximum number of iterations\n",
    "        self.lr = None  # learning rate for gradient descent\n",
    "\n",
    "    def fit(self, X_train, y_train, batch_size=32, lr=0.01, max_iteration=100):\n",
    "        \"\"\"\n",
    "        Fit the linear regression model to the training data using mini-batch gradient descent.\n",
    "\n",
    "        Parameters:\n",
    "            X_train (numpy.ndarray): Training data features with shape (n_samples, n_features).\n",
    "            y_train (numpy.ndarray): Target values with shape (n_samples,).\n",
    "            batch_size (int, optional): Size of each mini-batch. Default is 32.\n",
    "            lr (float): Learning rate, determines the step size in the gradient descent update (default=0.01).\n",
    "            max_iteration (int): Maximum number of iterations for gradient descent (default=100).\n",
    "        \"\"\"\n",
    "\n",
    "        self.lr = lr\n",
    "        self.max_iteration = max_iteration\n",
    "        self.batch_size = batch_size\n",
    "        self.coefs_ = np.zeros(X_train.shape[1])  # Initialize model coefficients\n",
    "        X_train = np.array(X_train)\n",
    "        y_train = np.array(y_train).reshape(len(y_train))\n",
    "        self.intercept_ = 0  # Initialize model intercept\n",
    "        m = X_train.shape[0]  # Number of training samples\n",
    "\n",
    "        for i in range(self.max_iteration):\n",
    "            for j in range(int(m / self.batch_size)):\n",
    "                n = random.sample(range(m), self.batch_size)  # Randomly sample a mini-batch\n",
    "                fx = np.dot(X_train[n, :], self.coefs_) + self.intercept_\n",
    "                intercept_gradient = -np.mean(y_train[n] - fx)  # Calculate intercept gradient\n",
    "                self.intercept_ -= (self.lr * intercept_gradient)  # Update intercept using gradient descent\n",
    "\n",
    "                coefficient_gradient = -np.dot((y_train[n] - fx), X_train[n, :]) / len(n)  # Calculate coefficient gradient\n",
    "                self.coefs_ -= (self.lr * coefficient_gradient)  # Update coefficients using gradient descent\n",
    "\n",
    "    def predict(self, X):\n",
    "        \"\"\"\n",
    "        Make predictions using the trained model.\n",
    "\n",
    "        Parameters:\n",
    "            X (numpy.ndarray): Input data with shape (n_samples, n_features).\n",
    "\n",
    "        Returns:\n",
    "            (numpy.ndarray): Predicted target values with shape (n_samples,).\n",
    "        \"\"\"\n",
    "\n",
    "        return np.dot(X, self.coefs_) + self.intercept_\n",
    "\n",
    "    def score(self, X, y_actual):\n",
    "        \"\"\"\n",
    "        Evaluate the model's performance using the coefficient of determination (R^2 score).\n",
    "\n",
    "        Parameters:\n",
    "            X (numpy.ndarray): Input data with shape (n_samples, n_features).\n",
    "            y_actual (numpy.ndarray): Actual target values with shape (n_samples,).\n",
    "\n",
    "        Returns:\n",
    "            float: The R^2 score indicating the goodness of fit of the model.\n",
    "        \"\"\"\n",
    "        y_actual = np.array(y_actual).reshape(len(y_actual))\n",
    "        y_pred = self.predict(X)\n",
    "        return (1 - (float(np.sum(np.power((y_actual - y_pred), 2)))) / (\n",
    "            np.sum(np.power(y_actual - np.mean(y_actual), 2))))\n"
   ],
   "metadata": {
    "collapsed": false
   }
  },
  {
   "cell_type": "code",
   "execution_count": null,
   "outputs": [],
   "source": [
    "df = pd.read_csv(\"... \\\\DtatSet.csv\")\n",
    "\n",
    "xtrain, xtest, ytrain, ytest = train_test_split(df.iloc[:, 1:], df.iloc[:, 0])\n",
    "sc=StandardScaler()\n",
    "xtrain=sc.fit_transform(xtrain)\n",
    "xtest=sc.transform(xtest)"
   ],
   "metadata": {
    "collapsed": false
   }
  },
  {
   "cell_type": "code",
   "execution_count": 6,
   "outputs": [],
   "source": [
    "# Example Usage:\n",
    "# Instantiate the Model\n",
    "model = MiniBatchGDRegression()\n",
    "\n",
    "# Train the model on training data\n",
    "model.fit(xtrain, ytrain, batch_size=32, lr=0.1, max_iteration=1000)\n",
    "\n",
    "# Make predictions on new data\n",
    "predictions = model.predict(xtest)\n",
    "\n",
    "# Evaluate the model using R^2 score\n",
    "r_squared = model.score(xtest, ytest)"
   ],
   "metadata": {
    "collapsed": false
   }
  },
  {
   "cell_type": "code",
   "execution_count": 7,
   "outputs": [
    {
     "name": "stderr",
     "output_type": "stream",
     "text": [
      "No artists with labels found to put in legend.  Note that artists whose label start with an underscore are ignored when legend() is called with no argument.\n"
     ]
    },
    {
     "data": {
      "text/plain": "<Figure size 640x480 with 1 Axes>",
      "image/png": "[encoded data removed]"
     },
     "metadata": {},
     "output_type": "display_data"
    }
   ],
   "source": [
    "import matplotlib.pyplot as plt\n",
    "\n",
    "GD = MiniBatchGDRegression()\n",
    "scor = []\n",
    "LR = list(np.linspace(0,0.001,50))\n",
    "for r in range(len(LR)):\n",
    "    GD.fit(xtrain, ytrain, lr=LR[r], max_iteration=100)\n",
    "    scor.append(GD.score(xtest, ytest))\n",
    "\n",
    "plt.plot(LR,scor, color=\"red\", marker=\"o\")\n",
    "plt.xlabel('Learning rate')\n",
    "plt.ylabel('score')\n",
    "plt.title('LR effect on Score')\n",
    "plt.legend()\n",
    "plt.show()"
   ],
   "metadata": {
    "collapsed": false
   }
  },
  {
   "cell_type": "code",
   "execution_count": null,
   "outputs": [],
   "source": [],
   "metadata": {
    "collapsed": false
   }
  },
  {
   "cell_type": "code",
   "execution_count": null,
   "outputs": [],
   "source": [],
   "metadata": {
    "collapsed": false
   }
  }
 ],
 "metadata": {
  "kernelspec": {
   "display_name": "Python 3",
   "language": "python",
   "name": "python3"
  },
  "language_info": {
   "codemirror_mode": {
    "name": "ipython",
    "version": 2
   },
   "file_extension": ".py",
   "mimetype": "text/x-python",
   "name": "python",
   "nbconvert_exporter": "python",
   "pygments_lexer": "ipython2",
   "version": "2.7.6"
  }
 },
 "nbformat": 4,
 "nbformat_minor": 0
}
